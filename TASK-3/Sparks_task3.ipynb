{
  "cells": [
    {
      "cell_type": "markdown",
      "metadata": {
        "id": "view-in-github",
        "colab_type": "text"
      },
      "source": [
        "<a href=\"https://colab.research.google.com/github/bchandhu/SPARKS-FOUNDATION-DATA-SCIENCE-TASKS/blob/main/TASK-3/Sparks_task3.ipynb\" target=\"_parent\"><img src=\"https://colab.research.google.com/assets/colab-badge.svg\" alt=\"Open In Colab\"/></a>"
      ]
    },
    {
      "cell_type": "markdown",
      "source": [
        "#**NAME: B CHANDHU**"
      ],
      "metadata": {
        "id": "JusG-RlojPNA"
      }
    },
    {
      "cell_type": "markdown",
      "metadata": {
        "id": "DlG1oucVqLtK"
      },
      "source": [
        "**Task 3: Exploratory Data Analysis - Retail**\n"
      ]
    },
    {
      "cell_type": "markdown",
      "metadata": {
        "id": "tygQ-Aw9qVDI"
      },
      "source": [
        "\n",
        "\n",
        "*   To Perform 'Exploratory Data Analysis' on dataset \"SampleSuperstore\"\n",
        "\n",
        "*   To detect the weak areas where more work is necessary to make profit.\n",
        "\n"
      ]
    },
    {
      "cell_type": "code",
      "execution_count": null,
      "metadata": {
        "colab": {
          "background_save": true
        },
        "id": "6BjsK4BMqfdl"
      },
      "outputs": [],
      "source": [
        "import pandas as pd\n",
        "import numpy as np\n",
        "import matplotlib.pyplot as plt\n",
        "import seaborn as sns"
      ]
    },
    {
      "cell_type": "code",
      "execution_count": null,
      "metadata": {
        "colab": {
          "base_uri": "https://localhost:8080/",
          "height": 354
        },
        "id": "IeoqDcsPp_XZ",
        "outputId": "e332a7cf-12f2-4cdb-d39b-f954e951b11a"
      },
      "outputs": [
        {
          "data": {
            "text/html": [
              "\n",
              "  <div id=\"df-b817bc49-a615-464b-bf5f-2810ea12d5d8\">\n",
              "    <div class=\"colab-df-container\">\n",
              "      <div>\n",
              "<style scoped>\n",
              "    .dataframe tbody tr th:only-of-type {\n",
              "        vertical-align: middle;\n",
              "    }\n",
              "\n",
              "    .dataframe tbody tr th {\n",
              "        vertical-align: top;\n",
              "    }\n",
              "\n",
              "    .dataframe thead th {\n",
              "        text-align: right;\n",
              "    }\n",
              "</style>\n",
              "<table border=\"1\" class=\"dataframe\">\n",
              "  <thead>\n",
              "    <tr style=\"text-align: right;\">\n",
              "      <th></th>\n",
              "      <th>Ship Mode</th>\n",
              "      <th>Segment</th>\n",
              "      <th>Country</th>\n",
              "      <th>City</th>\n",
              "      <th>State</th>\n",
              "      <th>Postal Code</th>\n",
              "      <th>Region</th>\n",
              "      <th>Category</th>\n",
              "      <th>Sub-Category</th>\n",
              "      <th>Sales</th>\n",
              "      <th>Quantity</th>\n",
              "      <th>Discount</th>\n",
              "      <th>Profit</th>\n",
              "    </tr>\n",
              "  </thead>\n",
              "  <tbody>\n",
              "    <tr>\n",
              "      <th>0</th>\n",
              "      <td>Second Class</td>\n",
              "      <td>Consumer</td>\n",
              "      <td>United States</td>\n",
              "      <td>Henderson</td>\n",
              "      <td>Kentucky</td>\n",
              "      <td>42420</td>\n",
              "      <td>South</td>\n",
              "      <td>Furniture</td>\n",
              "      <td>Bookcases</td>\n",
              "      <td>261.9600</td>\n",
              "      <td>2</td>\n",
              "      <td>0.00</td>\n",
              "      <td>41.9136</td>\n",
              "    </tr>\n",
              "    <tr>\n",
              "      <th>1</th>\n",
              "      <td>Second Class</td>\n",
              "      <td>Consumer</td>\n",
              "      <td>United States</td>\n",
              "      <td>Henderson</td>\n",
              "      <td>Kentucky</td>\n",
              "      <td>42420</td>\n",
              "      <td>South</td>\n",
              "      <td>Furniture</td>\n",
              "      <td>Chairs</td>\n",
              "      <td>731.9400</td>\n",
              "      <td>3</td>\n",
              "      <td>0.00</td>\n",
              "      <td>219.5820</td>\n",
              "    </tr>\n",
              "    <tr>\n",
              "      <th>2</th>\n",
              "      <td>Second Class</td>\n",
              "      <td>Corporate</td>\n",
              "      <td>United States</td>\n",
              "      <td>Los Angeles</td>\n",
              "      <td>California</td>\n",
              "      <td>90036</td>\n",
              "      <td>West</td>\n",
              "      <td>Office Supplies</td>\n",
              "      <td>Labels</td>\n",
              "      <td>14.6200</td>\n",
              "      <td>2</td>\n",
              "      <td>0.00</td>\n",
              "      <td>6.8714</td>\n",
              "    </tr>\n",
              "    <tr>\n",
              "      <th>3</th>\n",
              "      <td>Standard Class</td>\n",
              "      <td>Consumer</td>\n",
              "      <td>United States</td>\n",
              "      <td>Fort Lauderdale</td>\n",
              "      <td>Florida</td>\n",
              "      <td>33311</td>\n",
              "      <td>South</td>\n",
              "      <td>Furniture</td>\n",
              "      <td>Tables</td>\n",
              "      <td>957.5775</td>\n",
              "      <td>5</td>\n",
              "      <td>0.45</td>\n",
              "      <td>-383.0310</td>\n",
              "    </tr>\n",
              "    <tr>\n",
              "      <th>4</th>\n",
              "      <td>Standard Class</td>\n",
              "      <td>Consumer</td>\n",
              "      <td>United States</td>\n",
              "      <td>Fort Lauderdale</td>\n",
              "      <td>Florida</td>\n",
              "      <td>33311</td>\n",
              "      <td>South</td>\n",
              "      <td>Office Supplies</td>\n",
              "      <td>Storage</td>\n",
              "      <td>22.3680</td>\n",
              "      <td>2</td>\n",
              "      <td>0.20</td>\n",
              "      <td>2.5164</td>\n",
              "    </tr>\n",
              "  </tbody>\n",
              "</table>\n",
              "</div>\n",
              "      <button class=\"colab-df-convert\" onclick=\"convertToInteractive('df-b817bc49-a615-464b-bf5f-2810ea12d5d8')\"\n",
              "              title=\"Convert this dataframe to an interactive table.\"\n",
              "              style=\"display:none;\">\n",
              "        \n",
              "  <svg xmlns=\"http://www.w3.org/2000/svg\" height=\"24px\"viewBox=\"0 0 24 24\"\n",
              "       width=\"24px\">\n",
              "    <path d=\"M0 0h24v24H0V0z\" fill=\"none\"/>\n",
              "    <path d=\"M18.56 5.44l.94 2.06.94-2.06 2.06-.94-2.06-.94-.94-2.06-.94 2.06-2.06.94zm-11 1L8.5 8.5l.94-2.06 2.06-.94-2.06-.94L8.5 2.5l-.94 2.06-2.06.94zm10 10l.94 2.06.94-2.06 2.06-.94-2.06-.94-.94-2.06-.94 2.06-2.06.94z\"/><path d=\"M17.41 7.96l-1.37-1.37c-.4-.4-.92-.59-1.43-.59-.52 0-1.04.2-1.43.59L10.3 9.45l-7.72 7.72c-.78.78-.78 2.05 0 2.83L4 21.41c.39.39.9.59 1.41.59.51 0 1.02-.2 1.41-.59l7.78-7.78 2.81-2.81c.8-.78.8-2.07 0-2.86zM5.41 20L4 18.59l7.72-7.72 1.47 1.35L5.41 20z\"/>\n",
              "  </svg>\n",
              "      </button>\n",
              "      \n",
              "  <style>\n",
              "    .colab-df-container {\n",
              "      display:flex;\n",
              "      flex-wrap:wrap;\n",
              "      gap: 12px;\n",
              "    }\n",
              "\n",
              "    .colab-df-convert {\n",
              "      background-color: #E8F0FE;\n",
              "      border: none;\n",
              "      border-radius: 50%;\n",
              "      cursor: pointer;\n",
              "      display: none;\n",
              "      fill: #1967D2;\n",
              "      height: 32px;\n",
              "      padding: 0 0 0 0;\n",
              "      width: 32px;\n",
              "    }\n",
              "\n",
              "    .colab-df-convert:hover {\n",
              "      background-color: #E2EBFA;\n",
              "      box-shadow: 0px 1px 2px rgba(60, 64, 67, 0.3), 0px 1px 3px 1px rgba(60, 64, 67, 0.15);\n",
              "      fill: #174EA6;\n",
              "    }\n",
              "\n",
              "    [theme=dark] .colab-df-convert {\n",
              "      background-color: #3B4455;\n",
              "      fill: #D2E3FC;\n",
              "    }\n",
              "\n",
              "    [theme=dark] .colab-df-convert:hover {\n",
              "      background-color: #434B5C;\n",
              "      box-shadow: 0px 1px 3px 1px rgba(0, 0, 0, 0.15);\n",
              "      filter: drop-shadow(0px 1px 2px rgba(0, 0, 0, 0.3));\n",
              "      fill: #FFFFFF;\n",
              "    }\n",
              "  </style>\n",
              "\n",
              "      <script>\n",
              "        const buttonEl =\n",
              "          document.querySelector('#df-b817bc49-a615-464b-bf5f-2810ea12d5d8 button.colab-df-convert');\n",
              "        buttonEl.style.display =\n",
              "          google.colab.kernel.accessAllowed ? 'block' : 'none';\n",
              "\n",
              "        async function convertToInteractive(key) {\n",
              "          const element = document.querySelector('#df-b817bc49-a615-464b-bf5f-2810ea12d5d8');\n",
              "          const dataTable =\n",
              "            await google.colab.kernel.invokeFunction('convertToInteractive',\n",
              "                                                     [key], {});\n",
              "          if (!dataTable) return;\n",
              "\n",
              "          const docLinkHtml = 'Like what you see? Visit the ' +\n",
              "            '<a target=\"_blank\" href=https://colab.research.google.com/notebooks/data_table.ipynb>data table notebook</a>'\n",
              "            + ' to learn more about interactive tables.';\n",
              "          element.innerHTML = '';\n",
              "          dataTable['output_type'] = 'display_data';\n",
              "          await google.colab.output.renderOutput(dataTable, element);\n",
              "          const docLink = document.createElement('div');\n",
              "          docLink.innerHTML = docLinkHtml;\n",
              "          element.appendChild(docLink);\n",
              "        }\n",
              "      </script>\n",
              "    </div>\n",
              "  </div>\n",
              "  "
            ],
            "text/plain": [
              "        Ship Mode    Segment        Country             City       State  \\\n",
              "0    Second Class   Consumer  United States        Henderson    Kentucky   \n",
              "1    Second Class   Consumer  United States        Henderson    Kentucky   \n",
              "2    Second Class  Corporate  United States      Los Angeles  California   \n",
              "3  Standard Class   Consumer  United States  Fort Lauderdale     Florida   \n",
              "4  Standard Class   Consumer  United States  Fort Lauderdale     Florida   \n",
              "\n",
              "   Postal Code Region         Category Sub-Category     Sales  Quantity  \\\n",
              "0        42420  South        Furniture    Bookcases  261.9600         2   \n",
              "1        42420  South        Furniture       Chairs  731.9400         3   \n",
              "2        90036   West  Office Supplies       Labels   14.6200         2   \n",
              "3        33311  South        Furniture       Tables  957.5775         5   \n",
              "4        33311  South  Office Supplies      Storage   22.3680         2   \n",
              "\n",
              "   Discount    Profit  \n",
              "0      0.00   41.9136  \n",
              "1      0.00  219.5820  \n",
              "2      0.00    6.8714  \n",
              "3      0.45 -383.0310  \n",
              "4      0.20    2.5164  "
            ]
          },
          "execution_count": 8,
          "metadata": {},
          "output_type": "execute_result"
        }
      ],
      "source": [
        "# read the data\n",
        "df = pd.read_csv('SampleSuperstore.csv')\n",
        "df.head(5)"
      ]
    },
    {
      "cell_type": "markdown",
      "metadata": {
        "id": "X8GI39Cuqx9w"
      },
      "source": [
        "**Preprocessing Part- I**"
      ]
    },
    {
      "cell_type": "code",
      "execution_count": null,
      "metadata": {
        "colab": {
          "base_uri": "https://localhost:8080/"
        },
        "id": "daxnEzKeqz0n",
        "outputId": "63e6a12a-0026-4368-d813-fdbbf56a5134"
      },
      "outputs": [
        {
          "data": {
            "text/plain": [
              "(9994, 13)"
            ]
          },
          "execution_count": 9,
          "metadata": {},
          "output_type": "execute_result"
        }
      ],
      "source": [
        "#Check the shape\n",
        "df.shape"
      ]
    },
    {
      "cell_type": "code",
      "execution_count": null,
      "metadata": {
        "colab": {
          "base_uri": "https://localhost:8080/"
        },
        "id": "w3JBUMsxq5MB",
        "outputId": "b6201e41-d27f-4a2b-ac28-a0ad52a0c9e7"
      },
      "outputs": [
        {
          "data": {
            "text/plain": [
              "Ship Mode       0\n",
              "Segment         0\n",
              "Country         0\n",
              "City            0\n",
              "State           0\n",
              "Postal Code     0\n",
              "Region          0\n",
              "Category        0\n",
              "Sub-Category    0\n",
              "Sales           0\n",
              "Quantity        0\n",
              "Discount        0\n",
              "Profit          0\n",
              "dtype: int64"
            ]
          },
          "execution_count": 10,
          "metadata": {},
          "output_type": "execute_result"
        }
      ],
      "source": [
        "#check for the missing value\n",
        "df.isnull().sum()"
      ]
    },
    {
      "cell_type": "markdown",
      "metadata": {
        "id": "xeFYEVqdq8f7"
      },
      "source": [
        "**1. What are the weak areas where we need to work to make more profit?**"
      ]
    },
    {
      "cell_type": "markdown",
      "metadata": {
        "id": "I1ZTYvgdrArb"
      },
      "source": [
        "To answer this question let's make a plot on the Profit/Loss across all the states of USA.\n",
        "\n",
        "Changing the State Column as State Code"
      ]
    },
    {
      "cell_type": "code",
      "execution_count": null,
      "metadata": {
        "id": "W7r4bz2wq-lj"
      },
      "outputs": [],
      "source": [
        "state_code = {'Alabama': 'AL','Alaska': 'AK','Arizona': 'AZ','Arkansas': 'AR','California': 'CA','Colorado': 'CO',\n",
        "              'Connecticut': 'CT','Delaware': 'DE','Florida': 'FL','Georgia': 'GA','Hawaii': 'HI','Idaho': 'ID',\n",
        "              'Illinois': 'IL','Indiana': 'IN','Iowa': 'IA','Kansas': 'KS','Kentucky': 'KY','Louisiana': 'LA',\n",
        "              'Maine': 'ME','Maryland': 'MD','Massachusetts': 'MA','Michigan': 'MI','Minnesota': 'MN','Mississippi': 'MS',\n",
        "              'Missouri': 'MO','Montana': 'MT','Nebraska': 'NE','Nevada': 'NV','New Hampshire': 'NH','New Jersey': 'NJ',\n",
        "              'New Mexico': 'NM','New York': 'NY','North Carolina': 'NC','North Dakota': 'ND','Ohio': 'OH','Oklahoma': 'OK',\n",
        "              'Oregon': 'OR','Pennsylvania': 'PA','Rhode Island': 'RI','South Carolina': 'SC','South Dakota': 'SD',\n",
        "              'Tennessee': 'TN','Texas': 'TX','Utah': 'UT','Vermont': 'VT','Virginia': 'VA','District of Columbia': 'WA',\n",
        "              'Washington': 'WA','West Virginia': 'WV','Wisconsin': 'WI','Wyoming': 'WY'}\n",
        "df['state_code'] = df.State.apply(lambda x: state_code[x])"
      ]
    },
    {
      "cell_type": "code",
      "execution_count": null,
      "metadata": {
        "id": "DU8UjRpnqxrh"
      },
      "outputs": [],
      "source": [
        "#import few more libraries\n",
        "import plotly.express as px\n",
        "import plotly.graph_objects as go\n",
        "from plotly.subplots import make_subplots"
      ]
    },
    {
      "cell_type": "markdown",
      "metadata": {
        "id": "30rTpj1GrU-a"
      },
      "source": [
        "Plotting in Geo-Spatial Graph for better Visualization"
      ]
    },
    {
      "cell_type": "code",
      "execution_count": null,
      "metadata": {
        "id": "39Qt5K-zrVvp"
      },
      "outputs": [],
      "source": [
        "state_data = df[['Sales', 'Profit', 'state_code']].groupby(['state_code']).sum()\n",
        "fig = go.Figure(data=go.Choropleth(\n",
        "    locations=state_data.index, # Spatial coordinates\n",
        "    z = state_data.Profit, # Data to be color-coded\n",
        "    locationmode = 'USA-states', # set of locations match entries in `locations`\n",
        "    colorscale = [[0, 'rgb(57, 181, 224)'], [0.25, 'rgb(239, 163, 200)'], [0.45, 'rgb(56, 229, 77)'], [0.6, 'rgb(253, 255, 0)'], [1, 'rgb(253, 138, 138)']],\n",
        "#     reversescale = True,\n",
        "    colorbar_title = 'Profits in USD',\n",
        "))\n",
        "\n",
        "fig.update_layout(\n",
        "    title_text = 'Total State-Wise Profit/Loss',\n",
        "    geo_scope='usa', # limite map scope to USA\n",
        "    height=800,\n",
        ")\n",
        "\n",
        "fig.show()"
      ]
    },
    {
      "cell_type": "markdown",
      "metadata": {
        "id": "zbqzfe8VsmxK"
      },
      "source": [
        "**The observations from the above graph are-**\n",
        "\n",
        "\n",
        "*   The states like California, New York and Washington makes the highest profit of around 30k signified by the green colour.\n",
        "*   The blue and sky blue color signifies the states with average profit of around 25K and mainly in the north-east and south-east region.\n",
        "*   The state of Texas, proved to be the most expensive state for the company with a very high loss of around 25K.\n",
        "\n",
        "\n",
        "\n",
        "Thus, the most weaker areas are Texas, Pennslyvania and Ohio."
      ]
    },
    {
      "cell_type": "markdown",
      "metadata": {
        "id": "_371GGxAs5Ds"
      },
      "source": [
        "**Processing Part- II**\n",
        "\n",
        "**Checking for Duplicates**"
      ]
    },
    {
      "cell_type": "code",
      "execution_count": null,
      "metadata": {
        "id": "EVZcHsQss_dX"
      },
      "outputs": [],
      "source": [
        "#Checking for duplicates\n",
        "df.duplicated().sum()"
      ]
    },
    {
      "cell_type": "code",
      "execution_count": null,
      "metadata": {
        "id": "c0X2upAqtCd0"
      },
      "outputs": [],
      "source": [
        "#removing duplicates\n",
        "df = pd.DataFrame.drop_duplicates(df)\n",
        "df.duplicated().sum()"
      ]
    },
    {
      "cell_type": "markdown",
      "metadata": {
        "id": "dQ85l14ktExs"
      },
      "source": [
        "**Checking for Outliers**"
      ]
    },
    {
      "cell_type": "code",
      "execution_count": null,
      "metadata": {
        "id": "1dOEiT1rtHyE"
      },
      "outputs": [],
      "source": [
        "fig, ax= plt.subplots(1, 2, figsize=(12,8))\n",
        "#sns.boxplot(x=df[\"Sales\"], ax=ax[0])\n",
        "sns.boxplot(x=df[\"Discount\"], ax=ax[0])\n",
        "sns.boxplot(x=df[\"Quantity\"], ax=ax[1])"
      ]
    },
    {
      "cell_type": "markdown",
      "metadata": {
        "id": "OU7XjIFotPOw"
      },
      "source": [
        "Note- The best way to check for outliers are Boxplot, and while plotting so one thing have to be kept in mind that not all Numerical data will have outliers. e.g- in this case Sales and Profit column don't have outliers rather they have a wide range of data. But on the other hand Quantity and Discount have outliers as seen from the above plot."
      ]
    },
    {
      "cell_type": "markdown",
      "metadata": {
        "id": "s4yJvxaztS3g"
      },
      "source": [
        "**Removing the Outliers-**\n",
        "\n",
        "by Percentile Technique"
      ]
    },
    {
      "cell_type": "code",
      "execution_count": null,
      "metadata": {
        "id": "9tiO_V0VtXHQ"
      },
      "outputs": [],
      "source": [
        "Q1 = df.quantile(0.25)\n",
        "Q3 = df.quantile(0.75)\n",
        "IQR = Q3 - Q1\n",
        "df_new=df[~((df<(Q1-1.5*IQR))|(df>(Q3+1.5*IQR))).any(axis=1)]"
      ]
    },
    {
      "cell_type": "code",
      "execution_count": null,
      "metadata": {
        "id": "_gNkPzLztagx"
      },
      "outputs": [],
      "source": [
        "#new shape\n",
        "df_new.shape"
      ]
    },
    {
      "cell_type": "code",
      "execution_count": null,
      "metadata": {
        "id": "oKCoxVe7tehR"
      },
      "outputs": [],
      "source": [
        "#After removing the Outliers\n",
        "fig, ax= plt.subplots(1, 2, figsize=(12,8))\n",
        "sns.boxplot(x=df_new[\"Discount\"], ax=ax[0])\n",
        "sns.boxplot(x=df_new[\"Quantity\"], ax=ax[1])\n"
      ]
    },
    {
      "cell_type": "code",
      "execution_count": null,
      "metadata": {
        "id": "_QqaE6yytiHo"
      },
      "outputs": [],
      "source": [
        "# drop the unnecessary columns\n",
        "df_new.drop(['Postal Code'], axis=1)"
      ]
    },
    {
      "cell_type": "markdown",
      "metadata": {
        "id": "0vrASet2tpiO"
      },
      "source": [
        "**Plotting the Geo-Spatial Graph with the new data for Sales and for Profit**"
      ]
    },
    {
      "cell_type": "code",
      "execution_count": null,
      "metadata": {
        "id": "NH68qszbtuAf"
      },
      "outputs": [],
      "source": [
        "tate_code = {'Alabama': 'AL','Alaska': 'AK','Arizona': 'AZ','Arkansas': 'AR','California': 'CA','Colorado': 'CO',\n",
        "             'Connecticut': 'CT','Delaware': 'DE','Florida': 'FL','Georgia': 'GA','Hawaii': 'HI','Idaho': 'ID',\n",
        "             'Illinois': 'IL','Indiana': 'IN','Iowa': 'IA','Kansas': 'KS','Kentucky': 'KY','Louisiana': 'LA',\n",
        "             'Maine': 'ME','Maryland': 'MD','Massachusetts': 'MA','Michigan': 'MI','Minnesota': 'MN',\n",
        "             'Mississippi': 'MS','Missouri': 'MO','Montana': 'MT','Nebraska': 'NE','Nevada': 'NV','New Hampshire': 'NH',\n",
        "             'New Jersey': 'NJ','New Mexico': 'NM','New York': 'NY','North Carolina': 'NC','North Dakota': 'ND','Ohio': 'OH',\n",
        "             'Oklahoma': 'OK','Oregon': 'OR','Pennsylvania': 'PA','Rhode Island': 'RI','South Carolina': 'SC',\n",
        "             'South Dakota': 'SD','Tennessee': 'TN','Texas': 'TX','Utah': 'UT','Vermont': 'VT','Virginia': 'VA',\n",
        "             'District of Columbia': 'WA','Washington': 'WA','West Virginia': 'WV','Wisconsin': 'WI','Wyoming': 'WY'}\n",
        "df_new['state_code'] = df_new.State.apply(lambda x: state_code[x])"
      ]
    },
    {
      "cell_type": "code",
      "execution_count": null,
      "metadata": {
        "id": "AFnzmVeat4y-"
      },
      "outputs": [],
      "source": [
        "# for State-Wise Sales\n",
        "state_data = df_new[['Sales', 'Profit', 'state_code']].groupby(['state_code']).sum()\n",
        "\n",
        "\n",
        "fig = go.Figure(data=go.Choropleth(\n",
        "    locations=state_data.index, \n",
        "    z = state_data.Sales, \n",
        "    locationmode = 'USA-states', \n",
        "    colorscale = 'greens',\n",
        "    colorbar_title = 'Sales in USD',\n",
        "))\n",
        "\n",
        "fig.update_layout(\n",
        "    title_text = 'Total State-Wise Sales',\n",
        "    geo_scope='usa',\n",
        "    height=800,\n",
        ")"
      ]
    },
    {
      "cell_type": "markdown",
      "metadata": {
        "id": "O5TwAdpruXlG"
      },
      "source": [
        "**The Observations from the above graph are:**\n",
        "\n",
        "* The company has the highest sales in the state of California (shown in dark blue), selling around 130K of goods.\n",
        "\n",
        "* New York (bright blue, top right) is the state with the second highest sales, with more that 60k worth of goods sold.\n",
        "\n",
        "* The states of Texas (bottom most, blue) and Washington (top left, blue) end up third and fourth on the top sales charts with around $48K and 34K in sales respectively.\n",
        "\n",
        "* If we look at the overall data, we will observe that the supermarket company does most of its business in East Coast and West Coast region. In fact, the total sales in the state of New York is more than the sales in all of the Central America combined."
      ]
    },
    {
      "cell_type": "code",
      "execution_count": null,
      "metadata": {
        "id": "9ShtPNVUukBg"
      },
      "outputs": [],
      "source": [
        "# for State-Wise Profit/Loss\n",
        "fig = go.Figure(data=go.Choropleth(\n",
        "    locations=state_data.index, # Spatial coordinates\n",
        "    z = state_data.Profit, # Data to be color-coded\n",
        "    locationmode = 'USA-states', # set of locations match entries in `locations`\n",
        "  \n",
        "    colorscale= 'viridis',\n",
        "\n",
        "    colorbar_title = 'Profits in USD',\n",
        "))\n",
        "\n",
        "\n",
        "fig.update_layout(\n",
        "    title_text = 'Total State-Wise Profit/Loss',\n",
        "    geo_scope='usa', # limite map scope to USA\n",
        "    height=800,\n",
        ")\n",
        "\n",
        "fig.show()"
      ]
    },
    {
      "cell_type": "markdown",
      "metadata": {
        "id": "Y7GpbFJmu-ox"
      },
      "source": [
        "**The observations from the above plot are:**\n",
        "\n",
        "* The deep manroon marks the highest Profit i.e. California followed by New York and Washington DC but this time the value of Profit has changed for the new data.\n",
        "\n",
        "* Even though removing the duplicates and outliers doen't have any as such effect on Sales and Profit data apart of change in values.\n",
        "But it has an adverse effect on the Loss count i.e. from the above graph only we can see that Texas, Ohio etc. are not the loss sharing state anymore.\n",
        "\n",
        "* This new synthezied data is a littlebit misleading in terms of Truthfulness and Beauty but it was mandatory to remove the duplicate data and outliers.\n",
        "\n",
        "Thus, one has to be very careful while Pre-Processing the data. Since, this is my first project on Exploratory Data Analysis so I will say later what modify can be done to rectify this problem."
      ]
    },
    {
      "cell_type": "markdown",
      "metadata": {
        "id": "iqMvKKEGvI2c"
      },
      "source": [
        "**More on Business Analytics**\n",
        "\n",
        "To get to know more insight on the Sales and Profit/Loss on Category and Region- We plot them in the barchart."
      ]
    },
    {
      "cell_type": "code",
      "execution_count": null,
      "metadata": {
        "id": "C6PVKPVrvPRH"
      },
      "outputs": [],
      "source": [
        "#plotting the sales and profit by Category\n",
        "fig, ax = plt.subplots(1,2, figsize=(12,6))\n",
        "fig.suptitle(\"Sales and Profit By Category\", fontsize=20)\n",
        "\n",
        "df_by_category = df.groupby(\"Category\")[[\"Sales\", \"Profit\", \"Region\"]].sum()\n",
        "\n",
        "sns.barplot(x=df_by_category.index, y=df_by_category[\"Sales\" ], ax=ax[0])\n",
        "sns.barplot(x=df_by_category.index, y=df_by_category[\"Profit\"], ax=ax[1])\n",
        "\n",
        "fig.tight_layout()\n",
        "fig.subplots_adjust(top=0.85)"
      ]
    },
    {
      "cell_type": "markdown",
      "metadata": {
        "id": "ao-HTUgNvU1_"
      },
      "source": [
        "From, the above plot it is observed that while having a reasonable Sales margin the Furniture is gaining a minimun profit."
      ]
    },
    {
      "cell_type": "code",
      "execution_count": null,
      "metadata": {
        "id": "FVTXsVRKvVYK"
      },
      "outputs": [],
      "source": [
        "#plotting the Sales and Profit by Region\n",
        "df_groupby_region = df.groupby(\"Region\", sort=True)[[\"Sales\", \"Profit\"]].sum()\n",
        "\n",
        "fig, ax = plt.subplots(1 ,2, figsize=(10,5))\n",
        "\n",
        "ax[0].set_title(\"Sales by Region\")\n",
        "sns.barplot(x=df_groupby_region.index, y=df_groupby_region[\"Sales\"], ax=ax[0])\n",
        "\n",
        "ax[1].set_title(\"Profit by Region\")\n",
        "sns.barplot(x=df_groupby_region.index, y=df_groupby_region[\"Profit\"], ax=ax[1])\n",
        "\n",
        "plt.tight_layout()"
      ]
    },
    {
      "cell_type": "markdown",
      "metadata": {
        "id": "jTEcTquOvZtC"
      },
      "source": [
        "The Western region shows maximum Sales and Profit and the South shows the minimun profit while the Central showing the Lowest Profit among all.\n",
        "\n",
        "Counting the distribution of Products Catogorically over different Region-"
      ]
    },
    {
      "cell_type": "code",
      "execution_count": null,
      "metadata": {
        "id": "4XXdtSylvcN4"
      },
      "outputs": [],
      "source": [
        "plt.figure(figsize=(10, 6))\n",
        "sns.countplot(x=\"Region\", hue=\"Category\", data=df_new)"
      ]
    },
    {
      "cell_type": "markdown",
      "metadata": {
        "id": "XsMumymUvgAn"
      },
      "source": [
        "Among all the Regions the Office Supplies Product shows the Maximum Count.\n",
        "\n",
        "\n",
        "**Visualizing Profit/Loss over all the Products Subcategorically**-"
      ]
    },
    {
      "cell_type": "code",
      "execution_count": null,
      "metadata": {
        "id": "5a8aR-ypvkio"
      },
      "outputs": [],
      "source": [
        "import plotly.graph_objects as go\n",
        "\n",
        "labels = ['Oxygen','Hydrogen','Carbon_Dioxide','Nitrogen']\n",
        "values = [4500, 2500, 1053, 500]\n",
        "\n",
        "# Use `hole` to create a donut-like pie chart\n",
        "fig = go.Figure(data=[go.Pie(labels=labels, values=values, hole=.3)])\n",
        "fig.show()"
      ]
    },
    {
      "cell_type": "code",
      "execution_count": null,
      "metadata": {
        "id": "sAiJQtd6vrWX"
      },
      "outputs": [],
      "source": [
        "profit=df[df.Profit>0]\n",
        "loss=df[df.Profit<0]\n",
        "\n",
        "fig = go.Figure(data = [go.Pie(values = profit.groupby('Sub-Category').agg('sum').Profit,\n",
        "                labels = profit.groupby('Sub-Category').agg('sum').index,hole = .3)])\n",
        "\n",
        "fig.show()"
      ]
    },
    {
      "cell_type": "markdown",
      "metadata": {
        "id": "JT8rML8vvzLo"
      },
      "source": [
        "From the above Donut-Chart it is observed that the Binder shows the highest Profit followed by Phone and Copiers."
      ]
    },
    {
      "cell_type": "code",
      "execution_count": null,
      "metadata": {
        "id": "tTtmSctEv7se"
      },
      "outputs": [],
      "source": [
        "fig = go.Figure(data = [go.Pie(values = np.abs(loss.groupby('Sub-Category').agg('sum').Profit),\n",
        "                labels = loss.groupby('Sub-Category').agg('sum').index,hole = .3)])\n",
        "\n",
        "fig.show()"
      ]
    },
    {
      "cell_type": "markdown",
      "metadata": {
        "id": "JRSn8poDwCRo"
      },
      "source": [
        "From the Loss-Donut it is observed that Binder, Tables and Machines shows remarkable loss. The Copier, Paper and Labels shows no loss. This might be since they are Office Accessories."
      ]
    },
    {
      "cell_type": "markdown",
      "metadata": {
        "id": "67dq69wnZBht"
      },
      "source": [
        "**Sales and Profit insight for each Shipping Category-**"
      ]
    },
    {
      "cell_type": "code",
      "execution_count": null,
      "metadata": {
        "id": "HxEDsDpwZ1t_"
      },
      "outputs": [],
      "source": [
        "df['Profit1'] = df.Profit.apply(lambda x: x if (x > 0) else 0)\n",
        "fig = px.bar(df,x = 'Ship Mode', y = 'Profit1', title = 'Profit in Each Shipping Category'.upper(), \n",
        "                    color = 'Ship Mode', hover_data=['Profit', 'Sub-Category'])\n",
        "fig.update_layout(\n",
        "        autosize = True,\n",
        "        width = 800,\n",
        "        yaxis = dict(title='Total Profit'),\n",
        "        xaxis = dict(title='Shipping Class'),\n",
        "    )\n",
        "fig.show()"
      ]
    }
  ],
  "metadata": {
    "colab": {
      "provenance": [],
      "authorship_tag": "ABX9TyPIYrhCMT2HU2hUo6N2l+kA",
      "include_colab_link": true
    },
    "kernelspec": {
      "display_name": "Python 3",
      "name": "python3"
    },
    "language_info": {
      "name": "python"
    }
  },
  "nbformat": 4,
  "nbformat_minor": 0
}